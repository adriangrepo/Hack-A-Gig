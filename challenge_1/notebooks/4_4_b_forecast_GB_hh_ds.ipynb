{
 "cells": [
  {
   "cell_type": "markdown",
   "metadata": {},
   "source": [
    "## LightGBM gradient boosting - half hourly dataset\n",
    "\n",
    "Note this notebook needs to be run with a 'datascience' virtualenv not fastai env (unless you pip install all imports below into fastai env)\n"
   ]
  },
  {
   "cell_type": "code",
   "execution_count": 1,
   "metadata": {},
   "outputs": [],
   "source": [
    "import pandas as pd\n",
    "import lightgbm as lgb\n",
    "from numba import jit\n",
    "import math\n",
    "import feather\n",
    "from sklearn import preprocessing\n",
    "from sklearn.metrics import mean_squared_error\n",
    "import numpy as np\n",
    "import gc\n",
    "from matplotlib import pyplot as plt"
   ]
  },
  {
   "cell_type": "code",
   "execution_count": 2,
   "metadata": {},
   "outputs": [],
   "source": [
    "pd.set_option('display.max_columns', None)"
   ]
  },
  {
   "cell_type": "code",
   "execution_count": 3,
   "metadata": {},
   "outputs": [],
   "source": [
    "PATH='../input/merged_data/'"
   ]
  },
  {
   "cell_type": "code",
   "execution_count": 4,
   "metadata": {},
   "outputs": [],
   "source": [
    "@jit\n",
    "def smape_fast(y_true, y_pred):\n",
    "    out = 0\n",
    "    for i in range(y_true.shape[0]):\n",
    "        a = y_true[i]\n",
    "        b = y_pred[i]\n",
    "        if b < 1:\n",
    "            b = 0\n",
    "        c = a+b\n",
    "        if c == 0:\n",
    "            continue\n",
    "        out += math.fabs(a - b) / c\n",
    "    out *= (200.0 / y_true.shape[0])\n",
    "    return out\n",
    "\n",
    "def lgb_smape(preds, df):\n",
    "    labels = df.get_label()\n",
    "    labels, preds = np.expm1(np.array(labels)), np.expm1(np.array(preds))\n",
    "    return 'mape', smape_fast(labels, preds), False"
   ]
  },
  {
   "cell_type": "code",
   "execution_count": 5,
   "metadata": {},
   "outputs": [],
   "source": [
    "df = pd.read_csv('{0}hh_final_544_ids_735_days.csv'.format(PATH), low_memory=False)"
   ]
  },
  {
   "cell_type": "code",
   "execution_count": 6,
   "metadata": {},
   "outputs": [
    {
     "data": {
      "text/html": [
       "<div>\n",
       "<style scoped>\n",
       "    .dataframe tbody tr th:only-of-type {\n",
       "        vertical-align: middle;\n",
       "    }\n",
       "\n",
       "    .dataframe tbody tr th {\n",
       "        vertical-align: top;\n",
       "    }\n",
       "\n",
       "    .dataframe thead th {\n",
       "        text-align: right;\n",
       "    }\n",
       "</style>\n",
       "<table border=\"1\" class=\"dataframe\">\n",
       "  <thead>\n",
       "    <tr style=\"text-align: right;\">\n",
       "      <th></th>\n",
       "      <th>Unnamed: 0</th>\n",
       "      <th>index</th>\n",
       "      <th>LCLid</th>\n",
       "      <th>energy(kWh/hh)</th>\n",
       "      <th>dayYear</th>\n",
       "      <th>dayMonth</th>\n",
       "      <th>dayWeek</th>\n",
       "      <th>dayDay</th>\n",
       "      <th>dayDayofweek</th>\n",
       "      <th>dayDayofyear</th>\n",
       "      <th>dayIs_month_end</th>\n",
       "      <th>dayIs_month_start</th>\n",
       "      <th>dayIs_quarter_end</th>\n",
       "      <th>dayIs_quarter_start</th>\n",
       "      <th>dayIs_year_end</th>\n",
       "      <th>dayIs_year_start</th>\n",
       "      <th>dayElapsed</th>\n",
       "      <th>delta_minutes</th>\n",
       "      <th>visibility</th>\n",
       "      <th>windBearing</th>\n",
       "      <th>temperature</th>\n",
       "      <th>dewPoint</th>\n",
       "      <th>pressure</th>\n",
       "      <th>apparentTemperature</th>\n",
       "      <th>windSpeed</th>\n",
       "      <th>precipType</th>\n",
       "      <th>humidity</th>\n",
       "      <th>summary</th>\n",
       "      <th>is_bank_holiday</th>\n",
       "      <th>bank_holiday</th>\n",
       "      <th>day</th>\n",
       "      <th>cloudCover</th>\n",
       "      <th>uvIndex</th>\n",
       "      <th>moonPhase</th>\n",
       "      <th>from_sunrise</th>\n",
       "      <th>to_sunset</th>\n",
       "      <th>Afteris_bank_holiday</th>\n",
       "      <th>Beforeis_bank_holiday</th>\n",
       "      <th>stdorToU</th>\n",
       "      <th>Acorn</th>\n",
       "      <th>Acorn_grouped</th>\n",
       "    </tr>\n",
       "  </thead>\n",
       "  <tbody>\n",
       "    <tr>\n",
       "      <th>0</th>\n",
       "      <td>0</td>\n",
       "      <td>2012-02-05 00:00:00</td>\n",
       "      <td>MAC000006</td>\n",
       "      <td>0.042</td>\n",
       "      <td>2012</td>\n",
       "      <td>2</td>\n",
       "      <td>5</td>\n",
       "      <td>5</td>\n",
       "      <td>6</td>\n",
       "      <td>36</td>\n",
       "      <td>False</td>\n",
       "      <td>False</td>\n",
       "      <td>False</td>\n",
       "      <td>False</td>\n",
       "      <td>False</td>\n",
       "      <td>False</td>\n",
       "      <td>1328400000</td>\n",
       "      <td>-360000</td>\n",
       "      <td>1.32</td>\n",
       "      <td>160.0</td>\n",
       "      <td>-0.12</td>\n",
       "      <td>-0.22</td>\n",
       "      <td>1024.21</td>\n",
       "      <td>-4.68</td>\n",
       "      <td>4.35</td>\n",
       "      <td>snow</td>\n",
       "      <td>0.99</td>\n",
       "      <td>Foggy</td>\n",
       "      <td>False</td>\n",
       "      <td>NaN</td>\n",
       "      <td>2012-02-05</td>\n",
       "      <td>0.85</td>\n",
       "      <td>1.0</td>\n",
       "      <td>0.42</td>\n",
       "      <td>454.0</td>\n",
       "      <td>-1017.0</td>\n",
       "      <td>0</td>\n",
       "      <td>-87840</td>\n",
       "      <td>Std</td>\n",
       "      <td>ACORN-Q</td>\n",
       "      <td>Adversity</td>\n",
       "    </tr>\n",
       "    <tr>\n",
       "      <th>1</th>\n",
       "      <td>1</td>\n",
       "      <td>2012-02-05 00:00:00</td>\n",
       "      <td>MAC005178</td>\n",
       "      <td>0.561</td>\n",
       "      <td>2012</td>\n",
       "      <td>2</td>\n",
       "      <td>5</td>\n",
       "      <td>5</td>\n",
       "      <td>6</td>\n",
       "      <td>36</td>\n",
       "      <td>False</td>\n",
       "      <td>False</td>\n",
       "      <td>False</td>\n",
       "      <td>False</td>\n",
       "      <td>False</td>\n",
       "      <td>False</td>\n",
       "      <td>1328400000</td>\n",
       "      <td>-360000</td>\n",
       "      <td>1.32</td>\n",
       "      <td>160.0</td>\n",
       "      <td>-0.12</td>\n",
       "      <td>-0.22</td>\n",
       "      <td>1024.21</td>\n",
       "      <td>-4.68</td>\n",
       "      <td>4.35</td>\n",
       "      <td>snow</td>\n",
       "      <td>0.99</td>\n",
       "      <td>Foggy</td>\n",
       "      <td>False</td>\n",
       "      <td>NaN</td>\n",
       "      <td>2012-02-05</td>\n",
       "      <td>0.85</td>\n",
       "      <td>1.0</td>\n",
       "      <td>0.42</td>\n",
       "      <td>454.0</td>\n",
       "      <td>-1017.0</td>\n",
       "      <td>0</td>\n",
       "      <td>-87840</td>\n",
       "      <td>Std</td>\n",
       "      <td>ACORN-E</td>\n",
       "      <td>Affluent</td>\n",
       "    </tr>\n",
       "  </tbody>\n",
       "</table>\n",
       "</div>"
      ],
      "text/plain": [
       "   Unnamed: 0                index      LCLid  energy(kWh/hh)  dayYear  \\\n",
       "0           0  2012-02-05 00:00:00  MAC000006           0.042     2012   \n",
       "1           1  2012-02-05 00:00:00  MAC005178           0.561     2012   \n",
       "\n",
       "   dayMonth  dayWeek  dayDay  dayDayofweek  dayDayofyear  dayIs_month_end  \\\n",
       "0         2        5       5             6            36            False   \n",
       "1         2        5       5             6            36            False   \n",
       "\n",
       "   dayIs_month_start  dayIs_quarter_end  dayIs_quarter_start  dayIs_year_end  \\\n",
       "0              False              False                False           False   \n",
       "1              False              False                False           False   \n",
       "\n",
       "   dayIs_year_start  dayElapsed  delta_minutes  visibility  windBearing  \\\n",
       "0             False  1328400000        -360000        1.32        160.0   \n",
       "1             False  1328400000        -360000        1.32        160.0   \n",
       "\n",
       "   temperature  dewPoint  pressure  apparentTemperature  windSpeed precipType  \\\n",
       "0        -0.12     -0.22   1024.21                -4.68       4.35       snow   \n",
       "1        -0.12     -0.22   1024.21                -4.68       4.35       snow   \n",
       "\n",
       "   humidity summary  is_bank_holiday bank_holiday         day  cloudCover  \\\n",
       "0      0.99   Foggy            False          NaN  2012-02-05        0.85   \n",
       "1      0.99   Foggy            False          NaN  2012-02-05        0.85   \n",
       "\n",
       "   uvIndex  moonPhase  from_sunrise  to_sunset  Afteris_bank_holiday  \\\n",
       "0      1.0       0.42         454.0    -1017.0                     0   \n",
       "1      1.0       0.42         454.0    -1017.0                     0   \n",
       "\n",
       "   Beforeis_bank_holiday stdorToU    Acorn Acorn_grouped  \n",
       "0                 -87840      Std  ACORN-Q     Adversity  \n",
       "1                 -87840      Std  ACORN-E      Affluent  "
      ]
     },
     "execution_count": 6,
     "metadata": {},
     "output_type": "execute_result"
    }
   ],
   "source": [
    "df.head(n=2)"
   ]
  },
  {
   "cell_type": "code",
   "execution_count": 7,
   "metadata": {},
   "outputs": [],
   "source": [
    "df.drop(columns=['Unnamed: 0'],inplace=True)"
   ]
  },
  {
   "cell_type": "code",
   "execution_count": 8,
   "metadata": {},
   "outputs": [],
   "source": [
    "df.rename(columns={'index': 'day_time'}, inplace=True)"
   ]
  },
  {
   "cell_type": "code",
   "execution_count": 9,
   "metadata": {},
   "outputs": [],
   "source": [
    "df['day_time'] = pd.to_datetime(df['day_time'], format='%Y-%m-%d %H:%M:%S')"
   ]
  },
  {
   "cell_type": "code",
   "execution_count": 10,
   "metadata": {},
   "outputs": [
    {
     "data": {
      "text/plain": [
       "day_time                 datetime64[ns]\n",
       "LCLid                            object\n",
       "energy(kWh/hh)                  float64\n",
       "dayYear                           int64\n",
       "dayMonth                          int64\n",
       "dayWeek                           int64\n",
       "dayDay                            int64\n",
       "dayDayofweek                      int64\n",
       "dayDayofyear                      int64\n",
       "dayIs_month_end                    bool\n",
       "dayIs_month_start                  bool\n",
       "dayIs_quarter_end                  bool\n",
       "dayIs_quarter_start                bool\n",
       "dayIs_year_end                     bool\n",
       "dayIs_year_start                   bool\n",
       "dayElapsed                        int64\n",
       "delta_minutes                     int64\n",
       "visibility                      float64\n",
       "windBearing                     float64\n",
       "temperature                     float64\n",
       "dewPoint                        float64\n",
       "pressure                        float64\n",
       "apparentTemperature             float64\n",
       "windSpeed                       float64\n",
       "precipType                       object\n",
       "humidity                        float64\n",
       "summary                          object\n",
       "is_bank_holiday                    bool\n",
       "bank_holiday                     object\n",
       "day                              object\n",
       "cloudCover                      float64\n",
       "uvIndex                         float64\n",
       "moonPhase                       float64\n",
       "from_sunrise                    float64\n",
       "to_sunset                       float64\n",
       "Afteris_bank_holiday              int64\n",
       "Beforeis_bank_holiday             int64\n",
       "stdorToU                         object\n",
       "Acorn                            object\n",
       "Acorn_grouped                    object\n",
       "dtype: object"
      ]
     },
     "execution_count": 10,
     "metadata": {},
     "output_type": "execute_result"
    }
   ],
   "source": [
    "df.dtypes"
   ]
  },
  {
   "cell_type": "code",
   "execution_count": 11,
   "metadata": {},
   "outputs": [],
   "source": [
    "#replace Nan in this column\n",
    "df['bank_holiday'] = df['bank_holiday'].fillna('none')"
   ]
  },
  {
   "cell_type": "code",
   "execution_count": 12,
   "metadata": {},
   "outputs": [],
   "source": [
    "df.fillna(0,inplace=True)"
   ]
  },
  {
   "cell_type": "code",
   "execution_count": 13,
   "metadata": {},
   "outputs": [],
   "source": [
    "le = preprocessing.LabelEncoder()\n",
    "df['bank_holiday'] = le.fit_transform(df['bank_holiday'])\n",
    "df['stdorToU'] = le.fit_transform(df['stdorToU'])\n",
    "df['Acorn'] = le.fit_transform(df['Acorn'])\n",
    "df['Acorn_grouped'] = le.fit_transform(df['Acorn_grouped'])\n",
    "df['precipType'] = le.fit_transform(df['precipType'])\n",
    "df['summary'] = le.fit_transform(df['summary'])\n"
   ]
  },
  {
   "cell_type": "markdown",
   "metadata": {},
   "source": [
    "### T/T split"
   ]
  },
  {
   "cell_type": "markdown",
   "metadata": {},
   "source": [
    "dataset range is inclusive of '2012-2-5 00:00:00', '2014-2-8 23:30:00'\n",
    "\n",
    "We want to use the last week as our test set, second last as val set"
   ]
  },
  {
   "cell_type": "code",
   "execution_count": 14,
   "metadata": {},
   "outputs": [],
   "source": [
    "split_date = pd.datetime(2014,1,26)\n",
    "test_date = pd.datetime(2014,2,2)\n",
    "\n",
    "df_train = df.loc[df['day_time'] < split_date ]\n",
    "mask = (df['day_time'] >= split_date) & (df['day_time'] < test_date)\n",
    "df_val =  df.loc[mask]\n",
    "df_test = df.loc[df['day_time'] > test_date]"
   ]
  },
  {
   "cell_type": "markdown",
   "metadata": {},
   "source": [
    "### LightGBM setup"
   ]
  },
  {
   "cell_type": "markdown",
   "metadata": {},
   "source": [
    "Using label encode for categoricals\n",
    "\n",
    "https://lightgbm.readthedocs.io/en/latest/Features.html#optimal-split-for-categorical-features\n"
   ]
  },
  {
   "cell_type": "code",
   "execution_count": 15,
   "metadata": {},
   "outputs": [],
   "source": [
    "train_cols = [ 'dayYear','dayMonth','dayWeek','dayDay','dayDayofweek','dayDayofyear','dayIs_month_end','dayIs_month_start','dayIs_quarter_end',\n",
    "              'dayIs_quarter_start','dayIs_year_end','dayIs_year_start','dayElapsed',\n",
    "              'visibility','windBearing','temperature','dewPoint','pressure','apparentTemperature',\n",
    "              'windSpeed','precipType', 'humidity','summary','is_bank_holiday','bank_holiday', \n",
    "              'cloudCover','uvIndex','moonPhase','from_sunrise','Afteris_bank_holiday','Beforeis_bank_holiday',\n",
    "                'stdorToU','Acorn','Acorn_grouped']"
   ]
  },
  {
   "cell_type": "code",
   "execution_count": 16,
   "metadata": {},
   "outputs": [],
   "source": [
    "cat_vars = ['stdorToU','Acorn','Acorn_grouped', 'bank_holiday', 'precipType', 'summary']"
   ]
  },
  {
   "cell_type": "code",
   "execution_count": 17,
   "metadata": {},
   "outputs": [],
   "source": [
    "param = {}\n",
    "param['application'] = 'regression_l2'\n",
    "param['learning_rate'] = 0.1\n",
    "param['feature_fraction'] = 0.5\n",
    "param['bagging_fraction'] = 0.5\n",
    "param['bagging_freq'] = 1\n",
    "param['max_depth'] = 5\n",
    "param['num_threads'] = 4\n",
    "param['metric'] = 'l2_root'"
   ]
  },
  {
   "cell_type": "code",
   "execution_count": 18,
   "metadata": {},
   "outputs": [],
   "source": [
    "y_train = df_train[\"energy(kWh/hh)\"]\n",
    "y_val = df_val[\"energy(kWh/hh)\"]\n",
    "y_test = df_test[\"energy(kWh/hh)\"]\n",
    "X_train = df_train[train_cols]\n",
    "X_val = df_val[train_cols]\n",
    "X_test = df_test[train_cols]"
   ]
  },
  {
   "cell_type": "code",
   "execution_count": 19,
   "metadata": {},
   "outputs": [
    {
     "name": "stdout",
     "output_type": "stream",
     "text": [
      "[1]\ttraining's rmse: 0.32947\tvalid_1's rmse: 0.414013\n",
      "Training until validation scores don't improve for 10 rounds.\n",
      "[2]\ttraining's rmse: 0.328973\tvalid_1's rmse: 0.413487\n",
      "[3]\ttraining's rmse: 0.328515\tvalid_1's rmse: 0.412965\n",
      "[4]\ttraining's rmse: 0.32758\tvalid_1's rmse: 0.411849\n",
      "[5]\ttraining's rmse: 0.326405\tvalid_1's rmse: 0.409832\n",
      "[6]\ttraining's rmse: 0.326134\tvalid_1's rmse: 0.409542\n",
      "[7]\ttraining's rmse: 0.325548\tvalid_1's rmse: 0.408769\n",
      "[8]\ttraining's rmse: 0.325299\tvalid_1's rmse: 0.408536\n",
      "[9]\ttraining's rmse: 0.325141\tvalid_1's rmse: 0.408426\n",
      "[10]\ttraining's rmse: 0.325017\tvalid_1's rmse: 0.408362\n",
      "[11]\ttraining's rmse: 0.324911\tvalid_1's rmse: 0.408353\n",
      "[12]\ttraining's rmse: 0.324338\tvalid_1's rmse: 0.4077\n",
      "[13]\ttraining's rmse: 0.323869\tvalid_1's rmse: 0.407157\n",
      "[14]\ttraining's rmse: 0.323789\tvalid_1's rmse: 0.407094\n",
      "[15]\ttraining's rmse: 0.323017\tvalid_1's rmse: 0.405764\n",
      "[16]\ttraining's rmse: 0.322724\tvalid_1's rmse: 0.40547\n",
      "[17]\ttraining's rmse: 0.322673\tvalid_1's rmse: 0.40548\n",
      "[18]\ttraining's rmse: 0.322008\tvalid_1's rmse: 0.40443\n",
      "[19]\ttraining's rmse: 0.321958\tvalid_1's rmse: 0.404385\n",
      "[20]\ttraining's rmse: 0.321393\tvalid_1's rmse: 0.403472\n",
      "[21]\ttraining's rmse: 0.321176\tvalid_1's rmse: 0.403236\n",
      "[22]\ttraining's rmse: 0.320917\tvalid_1's rmse: 0.402981\n",
      "[23]\ttraining's rmse: 0.320725\tvalid_1's rmse: 0.402796\n",
      "[24]\ttraining's rmse: 0.320551\tvalid_1's rmse: 0.402601\n",
      "[25]\ttraining's rmse: 0.320484\tvalid_1's rmse: 0.402527\n",
      "[26]\ttraining's rmse: 0.320315\tvalid_1's rmse: 0.402368\n",
      "[27]\ttraining's rmse: 0.320281\tvalid_1's rmse: 0.402358\n",
      "[28]\ttraining's rmse: 0.320109\tvalid_1's rmse: 0.402182\n",
      "[29]\ttraining's rmse: 0.319809\tvalid_1's rmse: 0.401484\n",
      "[30]\ttraining's rmse: 0.319706\tvalid_1's rmse: 0.401408\n",
      "[31]\ttraining's rmse: 0.319604\tvalid_1's rmse: 0.401284\n",
      "[32]\ttraining's rmse: 0.319508\tvalid_1's rmse: 0.401183\n",
      "[33]\ttraining's rmse: 0.319423\tvalid_1's rmse: 0.401084\n",
      "[34]\ttraining's rmse: 0.319406\tvalid_1's rmse: 0.401084\n",
      "[35]\ttraining's rmse: 0.31932\tvalid_1's rmse: 0.400996\n",
      "[36]\ttraining's rmse: 0.319277\tvalid_1's rmse: 0.400977\n",
      "[37]\ttraining's rmse: 0.318984\tvalid_1's rmse: 0.400289\n",
      "[38]\ttraining's rmse: 0.318884\tvalid_1's rmse: 0.400176\n",
      "[39]\ttraining's rmse: 0.318856\tvalid_1's rmse: 0.400166\n",
      "[40]\ttraining's rmse: 0.318767\tvalid_1's rmse: 0.400069\n",
      "[41]\ttraining's rmse: 0.318713\tvalid_1's rmse: 0.4\n",
      "[42]\ttraining's rmse: 0.318668\tvalid_1's rmse: 0.399937\n",
      "[43]\ttraining's rmse: 0.318625\tvalid_1's rmse: 0.399883\n",
      "[44]\ttraining's rmse: 0.318591\tvalid_1's rmse: 0.399855\n",
      "[45]\ttraining's rmse: 0.318548\tvalid_1's rmse: 0.399819\n",
      "[46]\ttraining's rmse: 0.318519\tvalid_1's rmse: 0.399812\n",
      "[47]\ttraining's rmse: 0.31851\tvalid_1's rmse: 0.399811\n",
      "[48]\ttraining's rmse: 0.318482\tvalid_1's rmse: 0.399782\n",
      "[49]\ttraining's rmse: 0.318474\tvalid_1's rmse: 0.399779\n",
      "[50]\ttraining's rmse: 0.318432\tvalid_1's rmse: 0.399752\n",
      "[51]\ttraining's rmse: 0.318423\tvalid_1's rmse: 0.399763\n",
      "[52]\ttraining's rmse: 0.318389\tvalid_1's rmse: 0.399733\n",
      "[53]\ttraining's rmse: 0.31837\tvalid_1's rmse: 0.399737\n",
      "[54]\ttraining's rmse: 0.318363\tvalid_1's rmse: 0.399737\n",
      "[55]\ttraining's rmse: 0.318332\tvalid_1's rmse: 0.399728\n",
      "[56]\ttraining's rmse: 0.318306\tvalid_1's rmse: 0.399706\n",
      "[57]\ttraining's rmse: 0.318265\tvalid_1's rmse: 0.399644\n",
      "[58]\ttraining's rmse: 0.318237\tvalid_1's rmse: 0.399624\n",
      "[59]\ttraining's rmse: 0.317887\tvalid_1's rmse: 0.399147\n",
      "[60]\ttraining's rmse: 0.317854\tvalid_1's rmse: 0.399083\n",
      "[61]\ttraining's rmse: 0.317829\tvalid_1's rmse: 0.399057\n",
      "[62]\ttraining's rmse: 0.317819\tvalid_1's rmse: 0.399052\n",
      "[63]\ttraining's rmse: 0.317807\tvalid_1's rmse: 0.399041\n",
      "[64]\ttraining's rmse: 0.317791\tvalid_1's rmse: 0.39902\n",
      "[65]\ttraining's rmse: 0.317769\tvalid_1's rmse: 0.398971\n",
      "[66]\ttraining's rmse: 0.317763\tvalid_1's rmse: 0.398962\n",
      "[67]\ttraining's rmse: 0.317741\tvalid_1's rmse: 0.398945\n",
      "[68]\ttraining's rmse: 0.317724\tvalid_1's rmse: 0.398935\n",
      "[69]\ttraining's rmse: 0.317716\tvalid_1's rmse: 0.398935\n",
      "[70]\ttraining's rmse: 0.317663\tvalid_1's rmse: 0.398894\n",
      "[71]\ttraining's rmse: 0.317657\tvalid_1's rmse: 0.398892\n",
      "[72]\ttraining's rmse: 0.317629\tvalid_1's rmse: 0.39888\n",
      "[73]\ttraining's rmse: 0.317603\tvalid_1's rmse: 0.398842\n",
      "[74]\ttraining's rmse: 0.317546\tvalid_1's rmse: 0.398788\n",
      "[75]\ttraining's rmse: 0.317502\tvalid_1's rmse: 0.398738\n",
      "[76]\ttraining's rmse: 0.317478\tvalid_1's rmse: 0.39872\n",
      "[77]\ttraining's rmse: 0.317194\tvalid_1's rmse: 0.398262\n",
      "[78]\ttraining's rmse: 0.31719\tvalid_1's rmse: 0.398254\n",
      "[79]\ttraining's rmse: 0.317184\tvalid_1's rmse: 0.398246\n",
      "[80]\ttraining's rmse: 0.317171\tvalid_1's rmse: 0.398237\n",
      "[81]\ttraining's rmse: 0.317167\tvalid_1's rmse: 0.398234\n",
      "[82]\ttraining's rmse: 0.317123\tvalid_1's rmse: 0.398178\n",
      "[83]\ttraining's rmse: 0.317118\tvalid_1's rmse: 0.398176\n",
      "[84]\ttraining's rmse: 0.316944\tvalid_1's rmse: 0.397927\n",
      "[85]\ttraining's rmse: 0.316941\tvalid_1's rmse: 0.39792\n",
      "[86]\ttraining's rmse: 0.316937\tvalid_1's rmse: 0.397917\n",
      "[87]\ttraining's rmse: 0.316933\tvalid_1's rmse: 0.397913\n",
      "[88]\ttraining's rmse: 0.316917\tvalid_1's rmse: 0.397898\n",
      "[89]\ttraining's rmse: 0.316903\tvalid_1's rmse: 0.397887\n",
      "[90]\ttraining's rmse: 0.316899\tvalid_1's rmse: 0.397882\n",
      "[91]\ttraining's rmse: 0.316893\tvalid_1's rmse: 0.397875\n",
      "[92]\ttraining's rmse: 0.316785\tvalid_1's rmse: 0.397495\n",
      "[93]\ttraining's rmse: 0.316783\tvalid_1's rmse: 0.397495\n",
      "[94]\ttraining's rmse: 0.31678\tvalid_1's rmse: 0.397494\n",
      "[95]\ttraining's rmse: 0.316776\tvalid_1's rmse: 0.397489\n",
      "[96]\ttraining's rmse: 0.316767\tvalid_1's rmse: 0.397478\n",
      "[97]\ttraining's rmse: 0.31663\tvalid_1's rmse: 0.397311\n",
      "[98]\ttraining's rmse: 0.316627\tvalid_1's rmse: 0.397309\n",
      "[99]\ttraining's rmse: 0.316624\tvalid_1's rmse: 0.397306\n",
      "[100]\ttraining's rmse: 0.316618\tvalid_1's rmse: 0.397304\n",
      "[101]\ttraining's rmse: 0.31661\tvalid_1's rmse: 0.397295\n",
      "[102]\ttraining's rmse: 0.316604\tvalid_1's rmse: 0.397312\n",
      "[103]\ttraining's rmse: 0.316598\tvalid_1's rmse: 0.397313\n",
      "[104]\ttraining's rmse: 0.316451\tvalid_1's rmse: 0.397033\n",
      "[105]\ttraining's rmse: 0.31644\tvalid_1's rmse: 0.397026\n",
      "[106]\ttraining's rmse: 0.316346\tvalid_1's rmse: 0.39692\n",
      "[107]\ttraining's rmse: 0.316277\tvalid_1's rmse: 0.396841\n",
      "[108]\ttraining's rmse: 0.316268\tvalid_1's rmse: 0.396825\n",
      "[109]\ttraining's rmse: 0.316262\tvalid_1's rmse: 0.396824\n",
      "[110]\ttraining's rmse: 0.316259\tvalid_1's rmse: 0.396816\n",
      "[111]\ttraining's rmse: 0.316257\tvalid_1's rmse: 0.396813\n",
      "[112]\ttraining's rmse: 0.316254\tvalid_1's rmse: 0.396813\n",
      "[113]\ttraining's rmse: 0.316251\tvalid_1's rmse: 0.39681\n",
      "[114]\ttraining's rmse: 0.316245\tvalid_1's rmse: 0.396797\n",
      "[115]\ttraining's rmse: 0.31624\tvalid_1's rmse: 0.396795\n",
      "[116]\ttraining's rmse: 0.316237\tvalid_1's rmse: 0.396795\n",
      "[117]\ttraining's rmse: 0.316231\tvalid_1's rmse: 0.396793\n",
      "[118]\ttraining's rmse: 0.316205\tvalid_1's rmse: 0.39676\n",
      "[119]\ttraining's rmse: 0.316201\tvalid_1's rmse: 0.396758\n",
      "[120]\ttraining's rmse: 0.316192\tvalid_1's rmse: 0.396754\n",
      "[121]\ttraining's rmse: 0.316189\tvalid_1's rmse: 0.396755\n",
      "[122]\ttraining's rmse: 0.31608\tvalid_1's rmse: 0.396453\n",
      "[123]\ttraining's rmse: 0.316074\tvalid_1's rmse: 0.396443\n",
      "[124]\ttraining's rmse: 0.316066\tvalid_1's rmse: 0.396437\n",
      "[125]\ttraining's rmse: 0.316064\tvalid_1's rmse: 0.396436\n",
      "[126]\ttraining's rmse: 0.31606\tvalid_1's rmse: 0.396433\n",
      "[127]\ttraining's rmse: 0.316001\tvalid_1's rmse: 0.396291\n",
      "[128]\ttraining's rmse: 0.31599\tvalid_1's rmse: 0.39628\n",
      "[129]\ttraining's rmse: 0.315988\tvalid_1's rmse: 0.396282\n",
      "[130]\ttraining's rmse: 0.315987\tvalid_1's rmse: 0.396279\n",
      "[131]\ttraining's rmse: 0.315973\tvalid_1's rmse: 0.396258\n",
      "[132]\ttraining's rmse: 0.315968\tvalid_1's rmse: 0.396249\n",
      "[133]\ttraining's rmse: 0.315966\tvalid_1's rmse: 0.396254\n",
      "[134]\ttraining's rmse: 0.315961\tvalid_1's rmse: 0.396256\n",
      "[135]\ttraining's rmse: 0.315959\tvalid_1's rmse: 0.396254\n",
      "[136]\ttraining's rmse: 0.315944\tvalid_1's rmse: 0.396236\n",
      "[137]\ttraining's rmse: 0.315938\tvalid_1's rmse: 0.396233\n",
      "[138]\ttraining's rmse: 0.315936\tvalid_1's rmse: 0.396232\n",
      "[139]\ttraining's rmse: 0.315931\tvalid_1's rmse: 0.396228\n",
      "[140]\ttraining's rmse: 0.31593\tvalid_1's rmse: 0.396228\n",
      "[141]\ttraining's rmse: 0.315876\tvalid_1's rmse: 0.396083\n",
      "[142]\ttraining's rmse: 0.315874\tvalid_1's rmse: 0.396087\n",
      "[143]\ttraining's rmse: 0.315861\tvalid_1's rmse: 0.396079\n",
      "[144]\ttraining's rmse: 0.315859\tvalid_1's rmse: 0.39608\n",
      "[145]\ttraining's rmse: 0.315857\tvalid_1's rmse: 0.396082\n",
      "[146]\ttraining's rmse: 0.315856\tvalid_1's rmse: 0.396083\n",
      "[147]\ttraining's rmse: 0.315844\tvalid_1's rmse: 0.396044\n",
      "[148]\ttraining's rmse: 0.315842\tvalid_1's rmse: 0.39604\n",
      "[149]\ttraining's rmse: 0.31584\tvalid_1's rmse: 0.396042\n",
      "[150]\ttraining's rmse: 0.315838\tvalid_1's rmse: 0.396042\n",
      "[151]\ttraining's rmse: 0.315836\tvalid_1's rmse: 0.396044\n",
      "[152]\ttraining's rmse: 0.315833\tvalid_1's rmse: 0.396043\n",
      "[153]\ttraining's rmse: 0.315832\tvalid_1's rmse: 0.396046\n",
      "[154]\ttraining's rmse: 0.31583\tvalid_1's rmse: 0.39605\n",
      "[155]\ttraining's rmse: 0.315759\tvalid_1's rmse: 0.395921\n",
      "[156]\ttraining's rmse: 0.315744\tvalid_1's rmse: 0.395916\n",
      "[157]\ttraining's rmse: 0.315742\tvalid_1's rmse: 0.395913\n",
      "[158]\ttraining's rmse: 0.315741\tvalid_1's rmse: 0.39591\n",
      "[159]\ttraining's rmse: 0.31574\tvalid_1's rmse: 0.395908\n",
      "[160]\ttraining's rmse: 0.315737\tvalid_1's rmse: 0.395907\n",
      "[161]\ttraining's rmse: 0.315735\tvalid_1's rmse: 0.395906\n",
      "[162]\ttraining's rmse: 0.315733\tvalid_1's rmse: 0.395907\n",
      "[163]\ttraining's rmse: 0.315731\tvalid_1's rmse: 0.395907\n",
      "[164]\ttraining's rmse: 0.315681\tvalid_1's rmse: 0.395847\n",
      "[165]\ttraining's rmse: 0.31568\tvalid_1's rmse: 0.395847\n",
      "[166]\ttraining's rmse: 0.31567\tvalid_1's rmse: 0.395832\n",
      "[167]\ttraining's rmse: 0.31567\tvalid_1's rmse: 0.395836\n",
      "[168]\ttraining's rmse: 0.315666\tvalid_1's rmse: 0.395832\n",
      "[169]\ttraining's rmse: 0.315664\tvalid_1's rmse: 0.39583\n",
      "[170]\ttraining's rmse: 0.315656\tvalid_1's rmse: 0.395829\n",
      "[171]\ttraining's rmse: 0.315656\tvalid_1's rmse: 0.395827\n",
      "[172]\ttraining's rmse: 0.315565\tvalid_1's rmse: 0.395646\n",
      "[173]\ttraining's rmse: 0.315561\tvalid_1's rmse: 0.395644\n",
      "[174]\ttraining's rmse: 0.315559\tvalid_1's rmse: 0.395642\n",
      "[175]\ttraining's rmse: 0.315553\tvalid_1's rmse: 0.395632\n",
      "[176]\ttraining's rmse: 0.315546\tvalid_1's rmse: 0.395614\n",
      "[177]\ttraining's rmse: 0.315545\tvalid_1's rmse: 0.395614\n",
      "[178]\ttraining's rmse: 0.315541\tvalid_1's rmse: 0.395611\n",
      "[179]\ttraining's rmse: 0.315539\tvalid_1's rmse: 0.395611\n",
      "[180]\ttraining's rmse: 0.315532\tvalid_1's rmse: 0.395601\n",
      "[181]\ttraining's rmse: 0.315481\tvalid_1's rmse: 0.395546\n",
      "[182]\ttraining's rmse: 0.315477\tvalid_1's rmse: 0.395541\n",
      "[183]\ttraining's rmse: 0.315475\tvalid_1's rmse: 0.395539\n",
      "[184]\ttraining's rmse: 0.315464\tvalid_1's rmse: 0.395538\n",
      "[185]\ttraining's rmse: 0.315463\tvalid_1's rmse: 0.395538\n",
      "[186]\ttraining's rmse: 0.315454\tvalid_1's rmse: 0.395527\n",
      "[187]\ttraining's rmse: 0.315452\tvalid_1's rmse: 0.395527\n",
      "[188]\ttraining's rmse: 0.315451\tvalid_1's rmse: 0.395522\n",
      "[189]\ttraining's rmse: 0.315449\tvalid_1's rmse: 0.395521\n",
      "[190]\ttraining's rmse: 0.315449\tvalid_1's rmse: 0.39552\n",
      "[191]\ttraining's rmse: 0.315438\tvalid_1's rmse: 0.395504\n",
      "[192]\ttraining's rmse: 0.315431\tvalid_1's rmse: 0.395497\n",
      "[193]\ttraining's rmse: 0.315427\tvalid_1's rmse: 0.395487\n",
      "[194]\ttraining's rmse: 0.315426\tvalid_1's rmse: 0.395492\n",
      "[195]\ttraining's rmse: 0.31539\tvalid_1's rmse: 0.395428\n",
      "[196]\ttraining's rmse: 0.315359\tvalid_1's rmse: 0.395326\n",
      "[197]\ttraining's rmse: 0.315356\tvalid_1's rmse: 0.395325\n",
      "[198]\ttraining's rmse: 0.315351\tvalid_1's rmse: 0.395318\n",
      "[199]\ttraining's rmse: 0.315347\tvalid_1's rmse: 0.395314\n",
      "[200]\ttraining's rmse: 0.31534\tvalid_1's rmse: 0.395308\n",
      "[201]\ttraining's rmse: 0.315338\tvalid_1's rmse: 0.395306\n",
      "[202]\ttraining's rmse: 0.315337\tvalid_1's rmse: 0.395305\n",
      "[203]\ttraining's rmse: 0.315333\tvalid_1's rmse: 0.395301\n",
      "[204]\ttraining's rmse: 0.315326\tvalid_1's rmse: 0.395299\n",
      "[205]\ttraining's rmse: 0.315321\tvalid_1's rmse: 0.39529\n",
      "[206]\ttraining's rmse: 0.315313\tvalid_1's rmse: 0.395277\n",
      "[207]\ttraining's rmse: 0.315311\tvalid_1's rmse: 0.395273\n",
      "[208]\ttraining's rmse: 0.31531\tvalid_1's rmse: 0.395274\n",
      "[209]\ttraining's rmse: 0.315309\tvalid_1's rmse: 0.39528\n",
      "[210]\ttraining's rmse: 0.315308\tvalid_1's rmse: 0.39528\n",
      "[211]\ttraining's rmse: 0.315306\tvalid_1's rmse: 0.395278\n",
      "[212]\ttraining's rmse: 0.315306\tvalid_1's rmse: 0.395276\n",
      "[213]\ttraining's rmse: 0.31524\tvalid_1's rmse: 0.395152\n",
      "[214]\ttraining's rmse: 0.315234\tvalid_1's rmse: 0.395146\n",
      "[215]\ttraining's rmse: 0.315232\tvalid_1's rmse: 0.395143\n",
      "[216]\ttraining's rmse: 0.315231\tvalid_1's rmse: 0.395141\n",
      "[217]\ttraining's rmse: 0.31523\tvalid_1's rmse: 0.395141\n",
      "[218]\ttraining's rmse: 0.315229\tvalid_1's rmse: 0.395149\n",
      "[219]\ttraining's rmse: 0.315221\tvalid_1's rmse: 0.395145\n",
      "[220]\ttraining's rmse: 0.31522\tvalid_1's rmse: 0.395146\n",
      "[221]\ttraining's rmse: 0.315219\tvalid_1's rmse: 0.395143\n",
      "[222]\ttraining's rmse: 0.315185\tvalid_1's rmse: 0.395026\n",
      "[223]\ttraining's rmse: 0.31518\tvalid_1's rmse: 0.395024\n",
      "[224]\ttraining's rmse: 0.315141\tvalid_1's rmse: 0.394993\n",
      "[225]\ttraining's rmse: 0.315136\tvalid_1's rmse: 0.394994\n",
      "[226]\ttraining's rmse: 0.315134\tvalid_1's rmse: 0.394991\n",
      "[227]\ttraining's rmse: 0.315121\tvalid_1's rmse: 0.394975\n",
      "[228]\ttraining's rmse: 0.315118\tvalid_1's rmse: 0.394972\n",
      "[229]\ttraining's rmse: 0.315115\tvalid_1's rmse: 0.394971\n",
      "[230]\ttraining's rmse: 0.315112\tvalid_1's rmse: 0.394966\n",
      "[231]\ttraining's rmse: 0.315095\tvalid_1's rmse: 0.394957\n",
      "[232]\ttraining's rmse: 0.315093\tvalid_1's rmse: 0.394957\n",
      "[233]\ttraining's rmse: 0.315091\tvalid_1's rmse: 0.394957\n",
      "[234]\ttraining's rmse: 0.31509\tvalid_1's rmse: 0.394952\n",
      "[235]\ttraining's rmse: 0.315089\tvalid_1's rmse: 0.394952\n",
      "[236]\ttraining's rmse: 0.315088\tvalid_1's rmse: 0.394948\n",
      "[237]\ttraining's rmse: 0.315079\tvalid_1's rmse: 0.394936\n",
      "[238]\ttraining's rmse: 0.315078\tvalid_1's rmse: 0.394933\n",
      "[239]\ttraining's rmse: 0.315032\tvalid_1's rmse: 0.39483\n",
      "[240]\ttraining's rmse: 0.31503\tvalid_1's rmse: 0.394832\n",
      "[241]\ttraining's rmse: 0.315007\tvalid_1's rmse: 0.394782\n",
      "[242]\ttraining's rmse: 0.315007\tvalid_1's rmse: 0.394782\n",
      "[243]\ttraining's rmse: 0.314994\tvalid_1's rmse: 0.394748\n",
      "[244]\ttraining's rmse: 0.314994\tvalid_1's rmse: 0.394748\n",
      "[245]\ttraining's rmse: 0.31499\tvalid_1's rmse: 0.394745\n",
      "[246]\ttraining's rmse: 0.314981\tvalid_1's rmse: 0.394737\n",
      "[247]\ttraining's rmse: 0.31498\tvalid_1's rmse: 0.394734\n",
      "[248]\ttraining's rmse: 0.314977\tvalid_1's rmse: 0.39473\n",
      "[249]\ttraining's rmse: 0.314976\tvalid_1's rmse: 0.394728\n",
      "[250]\ttraining's rmse: 0.314975\tvalid_1's rmse: 0.394729\n",
      "[251]\ttraining's rmse: 0.314973\tvalid_1's rmse: 0.394728\n",
      "[252]\ttraining's rmse: 0.314972\tvalid_1's rmse: 0.394728\n",
      "[253]\ttraining's rmse: 0.314968\tvalid_1's rmse: 0.394728\n",
      "[254]\ttraining's rmse: 0.314964\tvalid_1's rmse: 0.394726\n",
      "[255]\ttraining's rmse: 0.314963\tvalid_1's rmse: 0.394725\n",
      "[256]\ttraining's rmse: 0.314962\tvalid_1's rmse: 0.39472\n",
      "[257]\ttraining's rmse: 0.314961\tvalid_1's rmse: 0.39472\n",
      "[258]\ttraining's rmse: 0.31496\tvalid_1's rmse: 0.39472\n",
      "[259]\ttraining's rmse: 0.314958\tvalid_1's rmse: 0.39472\n",
      "[260]\ttraining's rmse: 0.314957\tvalid_1's rmse: 0.39472\n",
      "[261]\ttraining's rmse: 0.314956\tvalid_1's rmse: 0.39472\n",
      "[262]\ttraining's rmse: 0.314955\tvalid_1's rmse: 0.394723\n",
      "[263]\ttraining's rmse: 0.314954\tvalid_1's rmse: 0.394724\n",
      "[264]\ttraining's rmse: 0.314954\tvalid_1's rmse: 0.394724\n",
      "[265]\ttraining's rmse: 0.314953\tvalid_1's rmse: 0.394724\n",
      "[266]\ttraining's rmse: 0.314952\tvalid_1's rmse: 0.394724\n",
      "[267]\ttraining's rmse: 0.314951\tvalid_1's rmse: 0.394721\n",
      "Early stopping, best iteration is:\n",
      "[257]\ttraining's rmse: 0.314961\tvalid_1's rmse: 0.39472\n"
     ]
    }
   ],
   "source": [
    "lgb_train = lgb.Dataset(X_train, label=y_train, free_raw_data=False)\n",
    "lgb_val = lgb.Dataset(X_val, label=y_val, free_raw_data=False, reference=lgb_train)\n",
    "\n",
    "#gbm = lgb.train(param, lgb_train, 1000, valid_sets=[lgb_train,lgb_val], feval=lgb_smape, early_stopping_rounds=10)\n",
    "gbm = lgb.train(param, lgb_train, 1000, valid_sets=[lgb_train,lgb_val], early_stopping_rounds=10)"
   ]
  },
  {
   "cell_type": "code",
   "execution_count": 20,
   "metadata": {},
   "outputs": [
    {
     "data": {
      "text/plain": [
       "520"
      ]
     },
     "execution_count": 20,
     "metadata": {},
     "output_type": "execute_result"
    }
   ],
   "source": [
    "gc.collect()"
   ]
  },
  {
   "cell_type": "code",
   "execution_count": 21,
   "metadata": {},
   "outputs": [
    {
     "data": {
      "text/plain": [
       "<matplotlib.axes._subplots.AxesSubplot at 0x7f2a10661198>"
      ]
     },
     "execution_count": 21,
     "metadata": {},
     "output_type": "execute_result"
    },
    {
     "data": {
      "image/png": "[encoded data removed]",
      "text/plain": [
       "<Figure size 1440x720 with 1 Axes>"
      ]
     },
     "metadata": {},
     "output_type": "display_data"
    }
   ],
   "source": [
    "lgb.plot_importance(gbm, figsize=(20, 10))"
   ]
  },
  {
   "cell_type": "code",
   "execution_count": 22,
   "metadata": {},
   "outputs": [],
   "source": [
    "# save model to file\n",
    "gbm.save_model('{0}lightgbm/4_4_b_model.txt'.format(PATH))"
   ]
  },
  {
   "cell_type": "code",
   "execution_count": 23,
   "metadata": {},
   "outputs": [],
   "source": [
    "# predict\n",
    "y_pred = gbm.predict(X_test, num_iteration=gbm.best_iteration)"
   ]
  },
  {
   "cell_type": "code",
   "execution_count": 24,
   "metadata": {},
   "outputs": [
    {
     "name": "stdout",
     "output_type": "stream",
     "text": [
      "The rmse of prediction is: 0.37470788223913915\n"
     ]
    }
   ],
   "source": [
    "# eval\n",
    "print('The rmse of prediction is: {0}'.format(mean_squared_error(y_test, y_pred) ** 0.5))"
   ]
  },
  {
   "cell_type": "markdown",
   "metadata": {},
   "source": [
    "print('rmse: {0}'.format(rmse))"
   ]
  },
  {
   "cell_type": "code",
   "execution_count": 25,
   "metadata": {},
   "outputs": [
    {
     "name": "stderr",
     "output_type": "stream",
     "text": [
      "/home/walle/.virtualenvs/datascience/lib/python3.5/site-packages/ipykernel_launcher.py:1: SettingWithCopyWarning: \n",
      "A value is trying to be set on a copy of a slice from a DataFrame.\n",
      "Try using .loc[row_indexer,col_indexer] = value instead\n",
      "\n",
      "See the caveats in the documentation: http://pandas.pydata.org/pandas-docs/stable/indexing.html#indexing-view-versus-copy\n",
      "  \"\"\"Entry point for launching an IPython kernel.\n"
     ]
    }
   ],
   "source": [
    "df_test['y_pred'] = y_pred"
   ]
  },
  {
   "cell_type": "code",
   "execution_count": 27,
   "metadata": {},
   "outputs": [],
   "source": [
    "csv_fn='{0}lightgbm/4_4_b_forecast_GB_hh_preds.csv'.format(PATH)"
   ]
  },
  {
   "cell_type": "code",
   "execution_count": 28,
   "metadata": {},
   "outputs": [],
   "source": [
    "df_test[['day_time','LCLid','y_pred']] .to_csv(csv_fn, index=False)"
   ]
  },
  {
   "cell_type": "code",
   "execution_count": null,
   "metadata": {},
   "outputs": [],
   "source": []
  }
 ],
 "metadata": {
  "kernelspec": {
   "display_name": "Python 3",
   "language": "python",
   "name": "python3"
  },
  "language_info": {
   "codemirror_mode": {
    "name": "ipython",
    "version": 3
   },
   "file_extension": ".py",
   "mimetype": "text/x-python",
   "name": "python",
   "nbconvert_exporter": "python",
   "pygments_lexer": "ipython3",
   "version": "3.5.2"
  }
 },
 "nbformat": 4,
 "nbformat_minor": 2
}
